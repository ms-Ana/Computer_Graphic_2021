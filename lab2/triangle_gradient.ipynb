{
 "cells": [
  {
   "cell_type": "markdown",
   "metadata": {},
   "source": [
    "## Imports "
   ]
  },
  {
   "cell_type": "code",
   "execution_count": 1,
   "metadata": {},
   "outputs": [],
   "source": [
    "import numpy as np\n",
    "import cv2\n",
    "import matplotlib.pyplot as plt\n",
    "from matplotlib.patches import Rectangle\n",
    "from ipywidgets import interact, widgets, interactive"
   ]
  },
  {
   "cell_type": "markdown",
   "metadata": {},
   "source": [
    "## Main functionallity "
   ]
  },
  {
   "cell_type": "code",
   "execution_count": 2,
   "metadata": {},
   "outputs": [],
   "source": [
    "def euclidean_dist(p1, p2):\n",
    "    return np.sqrt((p1[0] - p2[0])**2 + (p1[1] - p2[1])**2)\n",
    "\n",
    "def bottom_triangle(triangle_mesh, colors, params, plane):\n",
    "    w, h = params\n",
    "\n",
    "    v = triangle_mesh\n",
    "    if v[1][0] > v[2][0]:\n",
    "        v[1], v[2] = v[2], v[1]\n",
    "  \n",
    "    dy1, dy2 = int(h - v[0][1]), int(h - v[1][1])\n",
    "    colors = np.array(colors)\n",
    "   \n",
    "\n",
    "    slope1 = (v[1][0] - v[0][0]) / (v[1][1] - v[0][1])\n",
    "    slope2 = (v[2][0] - v[0][0]) / (v[2][1] - v[0][1]) \n",
    "    \n",
    "    line1 = euclidean_dist(v[0], v[1])\n",
    "    line2 = euclidean_dist(v[0], v[2])\n",
    "\n",
    "    \n",
    "    curx1, curx2 = v[0][0], v[0][0]\n",
    "    curx_border1, curx_border2 = curx1, curx2\n",
    "    color_border1, color_border2 = colors[0], colors[0]\n",
    "    dy2 = dy2 +1 if dy2 < h else dy2\n",
    "    \n",
    "    for y in range(dy1, dy2, 1):\n",
    "        for x in range(curx_border1, curx_border2 + 1, 1):\n",
    "            wl = euclidean_dist([x, y], [curx_border1, y])\n",
    "            wr = euclidean_dist([x, y], [curx_border2, y])\n",
    "            length = wr + wl + 1e-9\n",
    "            plane[y][x] = ((wr/length)*color_border1 + (wl/length) * color_border2).astype(int)\n",
    "       \n",
    "        curx1 -= slope1\n",
    "        curx2 -= slope2\n",
    "        \n",
    "        curx_border1, curx_border2 = int(curx1), int(curx2)\n",
    "        color_border1 = (((line1 - euclidean_dist([curx_border1, y], [v[0][0], h - v[0][1]])) / line1) * colors[0] \\\n",
    "                        +  ((line1 - euclidean_dist([curx_border1, y],[v[1][0], h - v[1][1]])) / line1) *colors[1]).astype(int)\n",
    "        \n",
    "        color_border2 = (((line2 - euclidean_dist([curx_border2, y], [v[0][0], h - v[0][1]])) / line2) * colors[0] \\\n",
    "                        +  ((line2 - euclidean_dist([curx_border2, y],[v[2][0], h - v[2][1]])) / line2) *colors[2]).astype(int)\n",
    "        \n",
    "def top_triangle(triangle_mesh, colors, params, plane):\n",
    "    w, h = params\n",
    "    v = triangle_mesh\n",
    "    if v[0][0] > v[1][0]:\n",
    "        v[0], v[1] = v[1], v[0]\n",
    "        colors[0], colors[1] = colors[1], colors[0]\n",
    "\n",
    "    dy1, dy2 = int(h - v[2][1]), int(h - v[0][1])\n",
    "    colors = np.array(colors)\n",
    "   \n",
    "    slope1 = (v[2][0] - v[0][0]) / (v[2][1] - v[0][1]) \n",
    "    slope2 = (v[2][0] - v[1][0]) / (v[2][1] - v[1][1])\n",
    "    \n",
    "    line1 = euclidean_dist(v[2], v[0])\n",
    "    line2 = euclidean_dist(v[2], v[1])\n",
    "\n",
    "\n",
    "    curx1, curx2 = v[2][0], v[2][0]\n",
    "    curx_border1, curx_border2 = curx1, curx2\n",
    "    color_border1, color_border2 = colors[2], colors[2]\n",
    "    dy2 = dy2 - 1 if dy2 > 0 else dy2\n",
    "    fig, ax = plt.subplots()\n",
    "    \n",
    "    for y in range(dy1, dy2, -1):\n",
    "        for x in range(curx_border1, curx_border2 + 1, 1):\n",
    "            wl = euclidean_dist([x, y], [curx_border1, y])\n",
    "            wr = euclidean_dist([x, y], [curx_border2, y])\n",
    "            length = wr + wl + 1e-9\n",
    "            plane[y][x] = ((wr/length)*color_border1 + (wl/length) * color_border2).astype(int)\n",
    "\n",
    "        curx1 += slope1\n",
    "        curx2 += slope2\n",
    "        \n",
    "        curx_border1, curx_border2 = int(curx1), int(curx2)\n",
    "        color_border1 = (((line1 - euclidean_dist([curx_border1, y], [v[2][0], h - v[2][1]])) / line1) * colors[2] \\\n",
    "                        +  ((line1 - euclidean_dist([curx_border1, y],[v[0][0], h - v[0][1]])) / line1) *colors[0]).astype(int)\n",
    "        \n",
    "        color_border2 = (((line2 - euclidean_dist([curx_border2, y], [v[2][0], h - v[2][1]])) / line2) * colors[2] \\\n",
    "                        +  ((line2 - euclidean_dist([curx_border2, y],[v[1][0], h - v[1][1]])) / line2) *colors[1]).astype(int)\n",
    "\n",
    "def fill_triangle(triangle_mesh,colors,  params):\n",
    "    w, h =params\n",
    "    result = np.zeros((h, w, 3),dtype=int)\n",
    "    triangle_mesh = np.array(triangle_mesh)\n",
    "    ys = triangle_mesh[:, 1]\n",
    "    indices = np.argsort(ys)\n",
    "    \n",
    "    triangle_mesh = triangle_mesh[indices][::-1]\n",
    "    colors = np.array(colors)[indices][::-1]\n",
    "\n",
    "    if triangle_mesh[0][1] == triangle_mesh[1][1]:\n",
    "        top_triangle(triangle_mesh, colors, params, result)\n",
    "    elif triangle_mesh[1][1] == triangle_mesh[2][1]:\n",
    "        bottom_triangle(triangle_mesh, colors, params, result)\n",
    "    else:\n",
    "        x = int(triangle_mesh[0][0] + ((triangle_mesh[1][1] - triangle_mesh[0][1]) / (triangle_mesh[2][1] - triangle_mesh[0][1])) * (triangle_mesh[2][0] - triangle_mesh[0][0]))\n",
    "        color_p = (0.5 * np.array(colors[0]) + 0.5 * np.array(colors[2])).astype(int)\n",
    "        top, bottom = [triangle_mesh[1], [x, triangle_mesh[1][1]], triangle_mesh[2]], \\\n",
    "                      [triangle_mesh[0], triangle_mesh[1], [x, triangle_mesh[1][1]]]\n",
    "        colors_top, colors_bottom = [colors[1], color_p, colors[2]], \\\n",
    "                                    [colors[0], colors[1], color_p]\n",
    "        bottom_triangle(bottom, colors_bottom, params, result)\n",
    "        top_triangle(top, colors_top, params, result)\n",
    "    return result\n",
    "\n"
   ]
  },
  {
   "cell_type": "markdown",
   "metadata": {},
   "source": [
    "## Performance"
   ]
  },
  {
   "cell_type": "code",
   "execution_count": 3,
   "metadata": {},
   "outputs": [
    {
     "data": {
      "application/vnd.jupyter.widget-view+json": {
       "model_id": "30e1f792f29f4fcf881805de6d2a079c",
       "version_major": 2,
       "version_minor": 0
      },
      "text/plain": [
       "interactive(children=(IntSlider(value=312, description='a_x', max=1600), IntSlider(value=346, description='a_y…"
      ]
     },
     "metadata": {},
     "output_type": "display_data"
    }
   ],
   "source": [
    "@interact(a_x=(0, 1600), a_y=(0,900), b_x=(0,1600), b_y=(0,900), c_x=(0,1600), c_y=(0,900), \n",
    "          a_r=(0,255), a_g=(0,255), a_b=(0,255), b_r=(0,255), b_g=(0,255), b_b=(0,255), c_r=(0,255), c_g=(0,255), c_b=(0,255))\n",
    "def draw_triangle(a_x=312, a_y=346, b_x=923, b_y=132, c_x=443, c_y=724, \n",
    "                  a_r=255, a_g=0, a_b=0, b_r=0, b_g=255, b_b=0, c_r=0, c_g=0, c_b=255):\n",
    "    width, height = 1600, 900\n",
    "    triangle = [[a_x, a_y],\n",
    "                [b_x, b_y],\n",
    "                [c_x, c_y]]\n",
    "    colors = [[a_r, a_g, a_b],\n",
    "              [b_r, b_g, b_b],\n",
    "              [c_r, c_g, c_b]]\n",
    "    result = fill_triangle(triangle_mesh=triangle, colors=colors, params=(width, height))\n",
    "   \n",
    "    plt.imshow(result)\n",
    "\n",
    "    plt.show()\n",
    " "
   ]
  },
  {
   "cell_type": "code",
   "execution_count": null,
   "metadata": {},
   "outputs": [],
   "source": []
  }
 ],
 "metadata": {
  "kernelspec": {
   "display_name": "Python 3",
   "language": "python",
   "name": "python3"
  },
  "language_info": {
   "codemirror_mode": {
    "name": "ipython",
    "version": 3
   },
   "file_extension": ".py",
   "mimetype": "text/x-python",
   "name": "python",
   "nbconvert_exporter": "python",
   "pygments_lexer": "ipython3",
   "version": "3.7.7"
  }
 },
 "nbformat": 4,
 "nbformat_minor": 4
}
